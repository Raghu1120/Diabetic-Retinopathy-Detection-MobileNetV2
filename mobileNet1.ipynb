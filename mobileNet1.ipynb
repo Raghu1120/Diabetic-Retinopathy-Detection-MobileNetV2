{
  "cells": [
    {
      "cell_type": "code",
      "execution_count": null,
      "metadata": {
        "id": "bK3KVboVDs2v"
      },
      "outputs": [],
      "source": [
        "import tensorflow as tf\n",
        "from tensorflow.keras.preprocessing.image import ImageDataGenerator\n",
        "from tensorflow.keras.applications import MobileNetV2\n",
        "from tensorflow.keras.layers import Dense, GlobalAveragePooling2D, Dropout\n",
        "from tensorflow.keras.models import Model\n",
        "from tensorflow.keras.optimizers import Adam\n",
        "from tensorflow.keras.callbacks import ModelCheckpoint, EarlyStopping\n",
        "import matplotlib.pyplot as plt\n"
      ]
    },
    {
      "cell_type": "code",
      "execution_count": null,
      "metadata": {
        "colab": {
          "base_uri": "https://localhost:8080/"
        },
        "id": "wIbZSht4Ds2x",
        "outputId": "2b6905aa-34f1-4714-daf8-27b78773153a"
      },
      "outputs": [
        {
          "output_type": "stream",
          "name": "stdout",
          "text": [
            "Found 1488 images belonging to 2 classes.\n",
            "Found 388 images belonging to 2 classes.\n"
          ]
        }
      ],
      "source": [
        "train_dir = '/content/drive/MyDrive/varun/train4'\n",
        "validation_dir = '/content/drive/MyDrive/varun/test4'\n",
        "\n",
        "num_classes = 2\n",
        "\n",
        "train_batch_size = 32\n",
        "validation_batch_size = 32\n",
        "\n",
        "train_datagen = ImageDataGenerator(\n",
        "    rescale=1./255,\n",
        "    rotation_range=20,\n",
        "    width_shift_range=0.2,\n",
        "    height_shift_range=0.2,\n",
        "    shear_range=0.2,\n",
        "    zoom_range=0.2,\n",
        "    horizontal_flip=True,\n",
        "    fill_mode='nearest'\n",
        ")\n",
        "\n",
        "validation_datagen = ImageDataGenerator(rescale=1./255)\n",
        "\n",
        "train_generator = train_datagen.flow_from_directory(\n",
        "    train_dir,\n",
        "    target_size=(224, 224),\n",
        "    batch_size=train_batch_size,\n",
        "    class_mode='Binary'\n",
        ")\n",
        "\n",
        "validation_generator = validation_datagen.flow_from_directory(\n",
        "    validation_dir,\n",
        "    target_size=(224, 224),\n",
        "    batch_size=validation_batch_size,\n",
        "    class_mode='Binary'\n",
        ")\n"
      ]
    },
    {
      "cell_type": "code",
      "execution_count": null,
      "metadata": {
        "colab": {
          "base_uri": "https://localhost:8080/"
        },
        "id": "AbSnxk0zDs2z",
        "outputId": "6021725a-0d37-4e81-ae28-abe9ac57d559"
      },
      "outputs": [
        {
          "output_type": "stream",
          "name": "stderr",
          "text": [
            "WARNING:tensorflow:`input_shape` is undefined or non-square, or `rows` is not in [96, 128, 160, 192, 224]. Weights for input shape (224, 224) will be loaded as the default.\n"
          ]
        },
        {
          "output_type": "stream",
          "name": "stdout",
          "text": [
            "Downloading data from https://storage.googleapis.com/tensorflow/keras-applications/mobilenet_v2/mobilenet_v2_weights_tf_dim_ordering_tf_kernels_1.0_224_no_top.h5\n",
            "9406464/9406464 [==============================] - 0s 0us/step\n",
            "Model: \"sequential\"\n",
            "_________________________________________________________________\n",
            " Layer (type)                Output Shape              Param #   \n",
            "=================================================================\n",
            " mobilenetv2_1.00_224 (Func  (None, None, None, 1280   2257984   \n",
            " tional)                     )                                   \n",
            "                                                                 \n",
            " global_average_pooling2d (  (None, 1280)              0         \n",
            " GlobalAveragePooling2D)                                         \n",
            "                                                                 \n",
            " dense (Dense)               (None, 256)               327936    \n",
            "                                                                 \n",
            " dropout (Dropout)           (None, 256)               0         \n",
            "                                                                 \n",
            " dense_1 (Dense)             (None, 5)                 1285      \n",
            "                                                                 \n",
            "=================================================================\n",
            "Total params: 2587205 (9.87 MB)\n",
            "Trainable params: 329221 (1.26 MB)\n",
            "Non-trainable params: 2257984 (8.61 MB)\n",
            "_________________________________________________________________\n"
          ]
        }
      ],
      "source": [
        "import tensorflow as tf\n",
        "from tensorflow.keras.applications import MobileNetV2\n",
        "\n",
        "# Load MobileNetV2 model with pretrained weights, excluding the top layer\n",
        "base_model = MobileNetV2(weights='imagenet', include_top=False)\n",
        "\n",
        "# Ensure that the base model layers are not trainable\n",
        "base_model.trainable = False\n",
        "\n",
        "# Build the classification layers on top of the base model\n",
        "model = tf.keras.Sequential([\n",
        "    base_model,\n",
        "    tf.keras.layers.GlobalAveragePooling2D(),\n",
        "    tf.keras.layers.Dense(256, activation='relu'),  # Additional dense layer\n",
        "    tf.keras.layers.Dropout(0.5),  # Dropout layer with 50% dropout rate\n",
        "    tf.keras.layers.Dense(5, activation='sigmoid')  # Output layer for binary classification\n",
        "])\n",
        "\n",
        "# Compile the model\n",
        "model.compile(optimizer='adam', loss='binary_crossentropy', metrics=['accuracy'])\n",
        "\n",
        "# Print model summary\n",
        "model.summary()\n"
      ]
    },
    {
      "cell_type": "code",
      "execution_count": null,
      "metadata": {
        "id": "H_y3dHnwHXuh",
        "colab": {
          "base_uri": "https://localhost:8080/",
          "height": 819
        },
        "outputId": "e70bd6b4-053f-41b8-bca5-b82d95c2082e"
      },
      "outputs": [
        {
          "metadata": {
            "tags": null
          },
          "name": "stdout",
          "output_type": "stream",
          "text": [
            "Epoch 1/10\n",
            "47/47 [==============================] - 357s 7s/step - loss: 0.4668 - accuracy: 0.8138 - val_loss: 0.2415 - val_accuracy: 0.9021\n",
            "Epoch 2/10\n",
            "47/47 [==============================] - 29s 611ms/step - loss: 0.2826 - accuracy: 0.8858 - val_loss: 0.2180 - val_accuracy: 0.9304\n",
            "Epoch 3/10\n",
            "47/47 [==============================] - 28s 591ms/step - loss: 0.2856 - accuracy: 0.8837 - val_loss: 0.2615 - val_accuracy: 0.8840\n",
            "Epoch 4/10\n",
            "47/47 [==============================] - 28s 602ms/step - loss: 0.2702 - accuracy: 0.8938 - val_loss: 0.2000 - val_accuracy: 0.9253\n",
            "Epoch 5/10\n",
            "47/47 [==============================] - 29s 627ms/step - loss: 0.2324 - accuracy: 0.9066 - val_loss: 0.2554 - val_accuracy: 0.8969\n",
            "Epoch 6/10\n",
            "47/47 [==============================] - 28s 604ms/step - loss: 0.2363 - accuracy: 0.8999 - val_loss: 0.1828 - val_accuracy: 0.9433\n",
            "Epoch 7/10\n",
            "47/47 [==============================] - 28s 597ms/step - loss: 0.1994 - accuracy: 0.9200 - val_loss: 0.1716 - val_accuracy: 0.9459\n",
            "Epoch 8/10\n",
            "47/47 [==============================] - 28s 596ms/step - loss: 0.2237 - accuracy: 0.9167 - val_loss: 0.1799 - val_accuracy: 0.9330\n",
            "Epoch 9/10\n",
            "47/47 [==============================] - 28s 601ms/step - loss: 0.2094 - accuracy: 0.9173 - val_loss: 0.1847 - val_accuracy: 0.9278\n",
            "Epoch 10/10\n",
            "47/47 [==============================] - 29s 611ms/step - loss: 0.2034 - accuracy: 0.9254 - val_loss: 0.2025 - val_accuracy: 0.9227\n"
          ]
        },
        {
          "data": {
            "image/png": "[encoded data removed]",
            "text/plain": [
              "<Figure size 640x480 with 1 Axes>"
            ]
          },
          "metadata": {},
          "output_type": "display_data"
        }
      ],
      "source": [
        "import matplotlib.pyplot as plt\n",
        "\n",
        "epochs = 10\n",
        "\n",
        "# Train the model using data generators\n",
        "history = model.fit(\n",
        "    train_generator,  # Use the train_generator for training data\n",
        "    validation_data=validation_generator,  # Use the validation_generator for validation data\n",
        "    epochs=epochs,\n",
        "    verbose=1\n",
        ")\n",
        "\n",
        "# Plot training & validation accuracy values\n",
        "plt.plot(history.history['accuracy'])\n",
        "plt.plot(history.history['val_accuracy'])\n",
        "plt.title('Model accuracy')\n",
        "plt.ylabel('Accuracy')\n",
        "plt.xlabel('Epoch')\n",
        "plt.legend(['Train', 'Validation'], loc='upper left')\n",
        "plt.show()\n"
      ]
    },
    {
      "cell_type": "code",
      "source": [
        "from google.colab import drive\n",
        "drive.mount('/content/drive')"
      ],
      "metadata": {
        "colab": {
          "base_uri": "https://localhost:8080/"
        },
        "id": "3getqbjQd7V8",
        "outputId": "794b4f7a-8d80-4ebd-ad59-12089072e24a"
      },
      "execution_count": null,
      "outputs": [
        {
          "output_type": "stream",
          "name": "stdout",
          "text": [
            "Mounted at /content/drive\n"
          ]
        }
      ]
    },
    {
      "cell_type": "code",
      "execution_count": null,
      "metadata": {
        "colab": {
          "base_uri": "https://localhost:8080/"
        },
        "id": "G9yMUdWRDs20",
        "outputId": "bab33c80-e9da-41d7-b7cb-c4abfd338ce9"
      },
      "outputs": [
        {
          "output_type": "stream",
          "name": "stderr",
          "text": [
            "/usr/local/lib/python3.10/dist-packages/keras/src/engine/training.py:3103: UserWarning: You are saving your model as an HDF5 file via `model.save()`. This file format is considered legacy. We recommend using instead the native Keras format, e.g. `model.save('my_model.keras')`.\n",
            "  saving_api.save_model(\n"
          ]
        }
      ],
      "source": [
        "model.save('Model_Final.h5')"
      ]
    },
    {
      "cell_type": "code",
      "execution_count": null,
      "metadata": {
        "id": "I6znzsh9Zpea"
      },
      "outputs": [],
      "source": []
    },
    {
      "cell_type": "code",
      "execution_count": null,
      "metadata": {
        "colab": {
          "base_uri": "https://localhost:8080/"
        },
        "id": "f38GA6HsZmup",
        "outputId": "3200b235-e3dc-436b-8946-29d903078aba"
      },
      "outputs": [
        {
          "output_type": "stream",
          "name": "stdout",
          "text": [
            "13/13 [==============================] - 2s 156ms/step - loss: 0.2025 - accuracy: 0.9227\n",
            "Test Loss: 0.2024824172258377, Test Accuracy: 0.9226804375648499\n"
          ]
        }
      ],
      "source": [
        "test_loss, test_accuracy = model.evaluate(validation_generator, steps=len(validation_generator))\n",
        "print(f'Test Loss: {test_loss}, Test Accuracy: {test_accuracy}')\n"
      ]
    },
    {
      "cell_type": "code",
      "execution_count": null,
      "metadata": {
        "id": "vclMLe5kII4i"
      },
      "outputs": [],
      "source": [
        "from keras.models import load_model\n",
        "\n",
        "# Load the model from the saved h5 file\n",
        "loaded_model = load_model('Model_Final.h5')\n",
        "\n",
        "\n"
      ]
    },
    {
      "cell_type": "code",
      "execution_count": null,
      "metadata": {
        "colab": {
          "base_uri": "https://localhost:8080/"
        },
        "id": "Low0FQ_RXMaj",
        "outputId": "5e0f56df-713c-4d2c-d1d5-3e42f81e07fb"
      },
      "outputs": [
        {
          "output_type": "stream",
          "name": "stdout",
          "text": [
            "1/1 [==============================] - 0s 23ms/step\n",
            "Predictions:  ['ndr']\n"
          ]
        }
      ],
      "source": [
        "def predict_image(model, img_path):\n",
        "    # Preprocess the image\n",
        "    preprocessed_img = prepare_image(img_path)\n",
        "\n",
        "    # Make predictions\n",
        "    prediction = model.predict(preprocessed_img)\n",
        "\n",
        "    # Retrieve the indices of the highest probability class\n",
        "    predicted_class_indices = np.argmax(prediction, axis=1)\n",
        "\n",
        "    # Map indices to class labels\n",
        "    labels = (train_generator.class_indices)\n",
        "    labels = dict((v, k) for k, v in labels.items())\n",
        "    predictions = [labels[k] for k in predicted_class_indices]\n",
        "\n",
        "    return predictions\n",
        "\n",
        "# Path to a new image for prediction\n",
        "new_image_path = '/content/24328_left.png'\n",
        "\n",
        "# Call the function with your model and the image path\n",
        "predictions = predict_image(model, new_image_path)\n",
        "\n",
        "print(\"Predictions: \", predictions)\n"
      ]
    }
  ],
  "metadata": {
    "accelerator": "GPU",
    "colab": {
      "gpuType": "T4",
      "provenance": []
    },
    "kernelspec": {
      "display_name": "Python 3",
      "name": "python3"
    },
    "language_info": {
      "codemirror_mode": {
        "name": "ipython",
        "version": 3
      },
      "file_extension": ".py",
      "mimetype": "text/x-python",
      "name": "python",
      "nbconvert_exporter": "python",
      "pygments_lexer": "ipython3",
      "version": "3.10.5"
    }
  },
  "nbformat": 4,
  "nbformat_minor": 0
}